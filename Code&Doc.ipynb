{
  "nbformat": 4,
  "nbformat_minor": 0,
  "metadata": {
    "colab": {
      "name": "coding&doc.ipynb",
      "provenance": [],
      "collapsed_sections": []
    },
    "kernelspec": {
      "name": "python3",
      "display_name": "Python 3"
    },
    "language_info": {
      "name": "python"
    }
  },
  "cells": [
    {
      "cell_type": "markdown",
      "source": [
        "# **Python Character Tournament**\n",
        "## *By Group 1142*:\n",
        "- Dario Patzi Chavez 20-609-467 (DarioP)\n",
        "- Marja Emilia Steuer 19-613-363\t(Emy)\n",
        "- Mathilde Bianco 19-616-978\t(mtldb)\n",
        "- Robert Josua Michels 18-615-286\t(therobo)\n"
      ],
      "metadata": {
        "id": "LUg6BXK61mzF"
      }
    },
    {
      "cell_type": "markdown",
      "source": [
        "# Aim of the Project "
      ],
      "metadata": {
        "id": "kJjj37bFq7SS"
      }
    },
    {
      "cell_type": "markdown",
      "source": [
        "The aim of the project was to simulate a fight between characters. At the beginning, the user is asked to choose their character amongst a predefined list of characters as well as to select an attribute for their character from a predefined list of attributes. Each character (Harry Potter, Ron Weasley, Draco Malfoy, Voldemort) has a distinct initial health and strength level. A higher health setting increases survival chances, while a high strength increases the damage caused to the opponents’ health during the fight (stronger punches). As will be explained, the fighter who survives the longest (most punches) is the winner of the fight. The user must choose their character bearing this tradeoff between strength and health in mind. Additionally, the user is presented with a list of seven attributes to choose from (coffee, sword, protein shake, hat, pizza, skis and vision goggles), each having a different health and strength level. Based on the attribute chosen, the health and strength settings of the character are modified to reflect the sum of the characters settings and those of the attribute. While the user can choose a character and an attribute, the remaining characters are assigned an attribute at random. It is possible that multiple fighters have the same attribute. The user’s configurated fighter will then fight another of the fighters. During the fight, the fighters punch the other fighter with a fraction of its strength, thus decreasing its opponent’s health by the respective amount. Both fighters punch their opponent “simultaneously”, such that at the end of the fight, both fighters threw an equal number of punches. The only way to win this fight is if a fighter still has positive health while the opponent’s health is negative. Simultaneously to the users’ fight, the remaining two characters of the list will fight each other. The winner of the two fights will then duel themselves to determine the ultimate winner of the tournament while the losers will fight for third place. "
      ],
      "metadata": {
        "id": "rPJTTgT7q9Cv"
      }
    },
    {
      "cell_type": "markdown",
      "source": [
        "# How it was Accomplished"
      ],
      "metadata": {
        "id": "IMh1BkxnrAG0"
      }
    },
    {
      "cell_type": "markdown",
      "source": [
        "To accomplish this aim, the code first defines a class for the character, the attribute and the fighter respectively. Subsequently, the list of characters and attributes are added to their respective class. In a next step, the code creates a function that allows the user to pick its character and another function to select the attributes. After choosing the character and attributes, a function was created that implements the selection and, if not possible, asks the user to reselect their fighter. Following this, another two functions are there to attribute the attributes to the other fighters at random and to select the fighters. Once the selection has been implemented successfully, the code calls on the next function which determines the winner and subsequently, a function that illustrates the results of the tournament. The next function of the code programs the actual fight. Additionally, after running the fight the user is given the possibility to restart the tournament if so desired. "
      ],
      "metadata": {
        "id": "9A5twL70rDWR"
      }
    },
    {
      "cell_type": "markdown",
      "source": [
        "# Entire Code"
      ],
      "metadata": {
        "id": "3dSkfo9ttvMe"
      }
    },
    {
      "cell_type": "code",
      "source": [
        "'''\n",
        "required libraries\n",
        "'''\n",
        "import numpy as np\n",
        "import random\n",
        "\n",
        "\n",
        "'''\n",
        "required class\n",
        "'''\n",
        "class Character:\n",
        "    def __init__(self, name, strength=0, health=0, gamewon=0):\n",
        "        self.name = name\n",
        "        self.strength = strength\n",
        "        self.health = health\n",
        "        self.gamewon = gamewon\n",
        "    def __str__(self):\n",
        "        return f\" {self.name}; your strength is {self.strength}, your health is {self.health}\"\n",
        "    def __repr__(self):\n",
        "        return f\"{self}({Character().__str__()})\"\n",
        "\n",
        "class Attribute:\n",
        "    def __init__ (self, name, strength=0, health=0):\n",
        "        self.name = name\n",
        "        self.strength = strength\n",
        "        self.health = health\n",
        "    def __str__ (self):\n",
        "        return f\" {self.name}; gives strength {self.strength} and health {self.health}\"\n",
        "    def __repr__(self):\n",
        "        return f\"{self}({Attribute().__str__()})\"\n",
        "\n",
        "class Fighter:\n",
        "    def __init__ (self, name, attribute=0, strength=0, health=0, gamewon=0):\n",
        "        self.name = name\n",
        "        self.attribute = attribute\n",
        "        self.strength = strength\n",
        "        self.health = health\n",
        "        self.gamewon = gamewon\n",
        "    def __str__(self):\n",
        "        return f\"{self.name} with {self.attribute} (strength {self.strength} and health {self.health}).\"\n",
        "    def __repr__(self):\n",
        "        return f\"{self}({Fighter().__str__()})\"\n",
        "    def fight(self, opponent):\n",
        "        # Basic stuff that must be reset before each fight    \n",
        "        discounter = 9\n",
        "        # Loop for the fighting until theres a clear winner\n",
        "        while True:\n",
        "            # safety mechanism to ensure the two fighters arent exaclty the same, randomly selected if same strength and health\n",
        "            if self.health == opponent.health and self.strength == opponent.strength:\n",
        "                winner = random.choice([self, opponent])\n",
        "                winner.gamewon += 1\n",
        "                print(f\"No true winner but the winner is {winner} due to a lucky punch\")\n",
        "                break\n",
        "            # ensuring that if no winner is found after 99990 rounds, either fighter is randomly selected to win \n",
        "            discounter += 1\n",
        "            if discounter >= 10000:\n",
        "                winner = random.choice([self, opponent])\n",
        "                winner.gamewon += 1\n",
        "                print(f\"No true winner but the winner is {winner} due to a lucky punch\")\n",
        "                break        \n",
        "            # damage that each punch causes, based on the strength and the current round\n",
        "            damage_taken = opponent.strength / discounter\n",
        "            damage_given = self.strength / discounter\n",
        "            selfhealth = self.health\n",
        "            opponenthealth = opponent.health\n",
        "            # fight until someone has health below 0\n",
        "            while selfhealth > 0 and opponenthealth > 0:\n",
        "                selfhealth -= damage_taken\n",
        "                opponenthealth -= damage_given\n",
        "            # check whether there is a winner with positive health\n",
        "            if selfhealth > opponenthealth and selfhealth >= 0:\n",
        "                self.gamewon += 1\n",
        "                print(f\"The winner is: {self}!\\nThe fight took {discounter - 9} round(s)\")\n",
        "                break\n",
        "            elif opponenthealth > selfhealth and opponenthealth >= 0:\n",
        "                opponent.gamewon += 1\n",
        "                print(f\"The winner is: {opponent}!\\nThe fight took {discounter - 9} round(s)\")\n",
        "                break\n",
        "            else:\n",
        "                pass\n",
        "\n",
        "\n",
        "'''\n",
        "characters and attributes list\n",
        "'''\n",
        "characters = [\n",
        "    Character(\"Harry Potter\", 100, 100),\n",
        "    Character(\"Ron Weasley\", 90, 110),\n",
        "    Character(\"Draco Malfoy\", 120, 80),\n",
        "    Character(\"Voldemort\", 140, 60)\n",
        "    ]\n",
        "\n",
        "attributes = [\n",
        "    Attribute(\"Coffee\", 50, -10),\n",
        "    Attribute(\"Sword\", 80, 10),\n",
        "    Attribute(\"Protein Shake\", 70, 20),\n",
        "    Attribute(\"Hat\", -20, 40),\n",
        "    Attribute(\"Pizza\", 40, -30),\n",
        "    Attribute(\"Skis\", 90, 0),\n",
        "    Attribute(\"Vision Goggles\", 60, -10)\n",
        "    ]\n",
        "\n",
        "\n",
        "'''\n",
        "Functions\n",
        "'''\n",
        "#function to pick the desired fighter\n",
        "def let_user_pick_C(characters):\n",
        "    print(\"Please choose your fighter: \")\n",
        "\n",
        "    for idx, element in enumerate(characters):\n",
        "        print(\"{}) {}\".format(idx + 1, element))\n",
        "\n",
        "    while True:\n",
        "        try:\n",
        "            i = int(input(f\"\\nPlease insert only your fighter number (between 1 an {len(characters)}): \"))\n",
        "        except ValueError:\n",
        "            continue\n",
        "        if 0 < i <= len(characters):\n",
        "            return i - 1\n",
        "\n",
        "#function to pick attributes\n",
        "def let_user_pick_A(attributes):\n",
        "    print(\"\\nPlease choose your weapon: \")\n",
        "\n",
        "    for idx, element in enumerate(attributes):\n",
        "        print(\"{}) {}\".format(idx + 1, element))\n",
        "\n",
        "    while True:\n",
        "        try:\n",
        "            i = int(input(f\"\\nPlease insert only your weapon number (between 1 an {len(attributes)}): \"))\n",
        "        except ValueError:\n",
        "            continue\n",
        "        if 0 < i <= len(attributes):\n",
        "            return i - 1\n",
        "\n",
        "# function implementing selection\n",
        "def continue_with_character():\n",
        "    global res1\n",
        "    global character_choice\n",
        "    global attribute_choice\n",
        "    while True:\n",
        "        try:\n",
        "            res1 = let_user_pick_C(characters)\n",
        "            character_choice = characters[res1]\n",
        "            print(character_choice)\n",
        "            res2 = let_user_pick_A(attributes)\n",
        "            attribute_choice = attributes[res2]\n",
        "            print(attribute_choice)\n",
        "            while True:              \n",
        "                try:\n",
        "                    x = input(f\"\\nDo you want to continue with {character_choice.name} and {attribute_choice.name}: yes or no? \")\n",
        "                    if x.lower() == \"no\":\n",
        "                        print(\"\\nPlease reselect a character and chose a new weapon/attribute\")\n",
        "                        break\n",
        "                    elif x.lower() == \"yes\":\n",
        "                        fighter_strength = character_choice.strength + attribute_choice.strength\n",
        "                        fighter_health = character_choice.health + attribute_choice.health\n",
        "                        print(\"Let's start the fight!!!\")\n",
        "                        print(f'Your character has strength {fighter_strength} and health {fighter_health}.')\n",
        "                        break\n",
        "                except ValueError:\n",
        "                    print(\"Please answer by yes or no.\")\n",
        "        except ValueError:\n",
        "            continue\n",
        "        if x.lower() == \"yes\":\n",
        "            fighters.append(Fighter(character_choice.name, attribute_choice.name, character_choice.strength + attribute_choice.strength, character_choice.health + attribute_choice.health))\n",
        "            break\n",
        "\n",
        "# random attributes\n",
        "def create_fighters():\n",
        "    for i in range(0,len(characters)):\n",
        "        if i == res1:\n",
        "            continue\n",
        "        else:\n",
        "            x = random.randint(0,len(attributes)-1)\n",
        "            z = Fighter(characters[i].name, attributes[x].name, characters[i].strength + attributes[x].strength, characters[i].health + attributes[x].health)\n",
        "            fighters.append(z)\n",
        "\n",
        "def selection_to_fighter():\n",
        "    global fighters\n",
        "    fighters = []\n",
        "    continue_with_character()            \n",
        "    create_fighters()\n",
        "\n",
        "# determine the winner \n",
        "def winner():\n",
        "    global first_place\n",
        "    global second_place\n",
        "    global third_place\n",
        "    global last_place\n",
        "    if TMW[0].gamewon > TMW[1].gamewon:\n",
        "        first_place = TMW[0]\n",
        "        second_place = TMW[1]\n",
        "    elif TMW[1].gamewon > TMW[0].gamewon:\n",
        "        first_place = TMW[1]\n",
        "        second_place = TMW[0]\n",
        "    else:\n",
        "        raise \"Unexpected Error occured\"\n",
        "    if TML[0].gamewon > TML[1].gamewon:\n",
        "        third_place = TML[0]\n",
        "        last_place = TML[1]\n",
        "    elif TML[1].gamewon > TML[0].gamewon:\n",
        "        third_place = TML[1]\n",
        "        last_place = TML[0]\n",
        "    else:\n",
        "        raise \"Unexpected Error occured\"\n",
        "    standing()\n",
        "\n",
        "# illustrate the ranking\n",
        "def standing():\n",
        "    print(\"-------------------------------------------------------------------------------------------------------------------------------------\")\n",
        "    print(\"-------------------------------------------------------------------------------------------------------------------------------------\")\n",
        "    if character_choice.name == first_place.name:\n",
        "        print(f\"Congratulation on first place! Your fighter won the tournament by winning both fights!\")\n",
        "    elif character_choice.name == second_place.name:\n",
        "        print(f\"Congratulation! Your fighter placed second. You lost the second fight against {first_place.name}\")\n",
        "    elif character_choice.name == third_place.name:\n",
        "        print(f\"Congrats on third place! Better luck next time. The winner of the tournament is {first_place.name}.\")\n",
        "    elif character_choice.name == last_place.name:\n",
        "        print(f\"Better luck next time, your fighter won none of the fights! The winner of the tournament is {first_place.name}\")\n",
        "    else:\n",
        "        print(\"An error has occurred\")\n",
        "    print(\n",
        "        f\"\"\"\n",
        "        The complete tournament ranking is:\\n\n",
        "        First Place goes to: {first_place}\n",
        "        Second Place goes to: {second_place}\n",
        "        Third Place goes to: {third_place}\n",
        "        Last Place goes to: {last_place}\n",
        "        \"\"\"\n",
        "        )\n",
        "    for i in fighters:\n",
        "        # reset gamewon to zero\n",
        "        i.gamewon = 0\n",
        "    print(\"-------------------------------------------------------------------------------------------------------------------------------------\")\n",
        "    print(\"-------------------------------------------------------------------------------------------------------------------------------------\")\n",
        "    print(\"-------------------------------------------------------------------------------------------------------------------------------------\")\n",
        "    print(\"-------------------------------------------------------------------------------------------------------------------------------------\")\n",
        "\n",
        "# actual fighting\n",
        "def fighting():\n",
        "    global group1\n",
        "    global group2\n",
        "    global tournament\n",
        "    global TMW\n",
        "    global TML\n",
        "    global secondleg\n",
        "    group1 = fighters.copy()\n",
        "    group2 = []\n",
        "    x = random.randint(0,3)\n",
        "    y = random.randint(0,2)\n",
        "    group2.append(group1[x])\n",
        "    del group1[x]\n",
        "    group2.append(group1[y])\n",
        "    del group1[y]\n",
        "    tournament = [tuple(group1), tuple(group2)]\n",
        "    print(\"-------------------------------------------------------------------------------------------------------------------------------------\")\n",
        "    print(\"\\nTournament fights stage 1:\")\n",
        "    for x, y in tournament:\n",
        "        print(x.name, \"vs\", y.name)\n",
        "    print(\"\\n\")\n",
        "    for x, y in tournament:\n",
        "        print(f\"Fight between {x.name} and {y.name}:\")\n",
        "        x.fight(y)\n",
        "        print(f\"\\t {x} \\n\\t {y} \\n\")\n",
        "    TMW, TML = [], []\n",
        "    for i in fighters:\n",
        "        if i.gamewon > 0:\n",
        "            TMW.append(i)\n",
        "        elif i.gamewon == 0:\n",
        "            TML.append(i)\n",
        "    secondleg = ((TMW[0], TMW[1]), (TML[0], TML[1]))\n",
        "    print(\"-------------------------------------------------------------------------------------------------------------------------------------\")\n",
        "    print(\"\\nTournament fights stage 2:\")\n",
        "    for x, y in secondleg:\n",
        "        print(x.name, \"vs\", y.name)\n",
        "    print(\"\\n\")\n",
        "    for x, y in secondleg:\n",
        "        print(f\"Fight between {x.name} and {y.name}:\")\n",
        "        x.fight(y)\n",
        "        print(f\"\\t {x} \\n\\t {y} \\n\")\n",
        "    winner()\n",
        "    restart_fight()\n",
        "\n",
        "\n",
        "\n",
        "# possibility to restart\n",
        "def restart_fight():\n",
        "    while True:\n",
        "        try:\n",
        "            x = input(\"\\n\\nWould you like to start a new tournament? \")\n",
        "            if x.lower() in [\"yes\", \"no\"]:\n",
        "              break\n",
        "        except ValueError:\n",
        "            print(\"Please answer yes or no\")\n",
        "    if x.lower() == \"yes\":\n",
        "        tournament_duel()\n",
        "    elif x.lower() == \"no\":\n",
        "        print(\"Thank you! Have a nice day!\")\n",
        "    else:\n",
        "      restart_fight()\n",
        "        \n",
        "\n",
        "# full fighting code in one function\n",
        "def tournament_duel():\n",
        "    #run this function to start the selection process\n",
        "    selection_to_fighter()\n",
        "    # actual fighting\n",
        "    fighting()"
      ],
      "metadata": {
        "id": "sRx6493ttyS4"
      },
      "execution_count": null,
      "outputs": []
    },
    {
      "cell_type": "code",
      "source": [
        "tournament_duel()"
      ],
      "metadata": {
        "id": "37coUylxt8Zh"
      },
      "execution_count": null,
      "outputs": []
    },
    {
      "cell_type": "markdown",
      "source": [
        "# Project Code in Details "
      ],
      "metadata": {
        "id": "Be_DxqgwrGeP"
      }
    },
    {
      "cell_type": "markdown",
      "source": [
        "## Prerequisite, Classes and importing Characters & Attributes"
      ],
      "metadata": {
        "id": "ReZqftHLrJSG"
      }
    },
    {
      "cell_type": "markdown",
      "source": [
        "While the previous section explained how the code was written to enable the creation of a fictional tournament, this section will analyze the code in more depth. Before we begin, it is crucial to remember that, for the successful execution of this code, two `libraries` must be imported (`numpy` and `random`), as these will be required within the proceeding functions. As mentioned, the next step includes the creation of three distinct classes, one for the characters and attributes respectively and the third for the fighters which incorporates the information from the previous classes. Each class consists of a `__init__`, `__str__`, and `__repr__` function, while the third class (`Fighter`) additionally includes a fight function. This fight function is what enables the code to execute the tournament and be able to retrieve the required information from the instances."
      ],
      "metadata": {
        "id": "C-MosoGHrQSn"
      }
    },
    {
      "cell_type": "code",
      "source": [
        "'''\n",
        "required libraries\n",
        "'''\n",
        "import numpy as np\n",
        "import random\n",
        "\n",
        "\n",
        "'''\n",
        "required class\n",
        "'''\n",
        "class Character:\n",
        "    def __init__(self, name, strength=0, health=0, gamewon=0):\n",
        "        self.name = name\n",
        "        self.strength = strength\n",
        "        self.health = health\n",
        "        self.gamewon = gamewon\n",
        "    def __str__(self):\n",
        "        return f\" {self.name}; your strength is {self.strength}, your health is {self.health}\"\n",
        "    def __repr__(self):\n",
        "        return f\"{self}({Character().__str__()})\"\n",
        "\n",
        "class Attribute:\n",
        "    def __init__ (self, name, strength=0, health=0):\n",
        "        self.name = name\n",
        "        self.strength = strength\n",
        "        self.health = health\n",
        "    def __str__ (self):\n",
        "        return f\" {self.name}; gives strength {self.strength} and health {self.health}\"\n",
        "    def __repr__(self):\n",
        "        return f\"{self}({Attribute().__str__()})\"\n",
        "\n",
        "class Fighter:\n",
        "    def __init__ (self, name, attribute=0, strength=0, health=0, gamewon=0):\n",
        "        self.name = name\n",
        "        self.attribute = attribute\n",
        "        self.strength = strength\n",
        "        self.health = health\n",
        "        self.gamewon = gamewon\n",
        "    def __str__(self):\n",
        "        return f\"{self.name} with {self.attribute} (strength {self.strength} and health {self.health}).\"\n",
        "    def __repr__(self):\n",
        "        return f\"{self}({Fighter().__str__()})\"\n",
        "    def fight(self, opponent):\n",
        "        # Basic stuff that must be reset before each fight    \n",
        "        discounter = 9\n",
        "        # Loop for the fighting until theres a clear winner\n",
        "        while True:\n",
        "            # safety mechanism to ensure the two fighters arent exaclty the same, randomly selected if same strength and health\n",
        "            if self.health == opponent.health and self.strength == opponent.strength:\n",
        "                winner = random.choice([self, opponent])\n",
        "                winner.gamewon += 1\n",
        "                print(f\"No true winner but the winner is {winner} due to a lucky punch\")\n",
        "                break\n",
        "            # ensuring that if no winner is found after 99990 rounds, either fighter is randomly selected to win \n",
        "            discounter += 1\n",
        "            if discounter >= 10000:\n",
        "                winner = random.choice([self, opponent])\n",
        "                winner.gamewon += 1\n",
        "                print(f\"No true winner but the winner is {winner} due to a lucky punch\")\n",
        "                break        \n",
        "            # damage that each punch causes, based on the strength and the current round\n",
        "            damage_taken = opponent.strength / discounter\n",
        "            damage_given = self.strength / discounter\n",
        "            selfhealth = self.health\n",
        "            opponenthealth = opponent.health\n",
        "            # fight until someone has health below 0\n",
        "            while selfhealth > 0 and opponenthealth > 0:\n",
        "                selfhealth -= damage_taken\n",
        "                opponenthealth -= damage_given\n",
        "            # check whether there is a winner with positive health\n",
        "            if selfhealth > opponenthealth and selfhealth >= 0:\n",
        "                self.gamewon += 1\n",
        "                print(f\"The winner is: {self}!\\nThe fight took {discounter - 9} round(s)\")\n",
        "                break\n",
        "            elif opponenthealth > selfhealth and opponenthealth >= 0:\n",
        "                opponent.gamewon += 1\n",
        "                print(f\"The winner is: {opponent}!\\nThe fight took {discounter - 9} round(s)\")\n",
        "                break\n",
        "            else:\n",
        "                pass"
      ],
      "metadata": {
        "id": "5uYIpLri22dQ"
      },
      "execution_count": null,
      "outputs": []
    },
    {
      "cell_type": "markdown",
      "source": [
        "Looking more in depth at the fight function within the `Fighter` class, we see that this function requires two mandatory arguments: `self` and `opponent`. Accordingly, this function will only be able to execute given two fighters, representing the two fighters in the duel. The next line creates a variable called `discounter`, which is assigned the initial integer 9, which represents a discount factor of the total strength per punch of the fighter (i.e. each punch is a fraction of the fighters total strength). Within the proceeding infinite loop, the first if statement acts as a safety mechanism to prevent a fight amongst exact equals (fighters who have, including their attributes, exactly the same health and strength level). Since there will, by definition, never be a winner between these two fighters, this safety mechanism prevents unnecessary code execution and instead selects either fighter randomly as the winner (with justification of a “lucky punch”). This winner is treated identically later as if they had overcome their opponent. Next, if the if statement was not True, the `discounter` variable is increased by one. This serves as to alter weight of each punch in the scenario of no clear initial winners. Here again, a safety mechanism, build as an if statement, ensures to give an eventual ending point if a clear winner cannot be found. Precisely, after 9’990 iterations of this section, a random winner is selected based on the aforementioned “lucky punch” principle, since neither fighter managed to beat their opponent (even though their health’s and strengths are not identical). If neither of these if statement is True, the next lines of code are executed, which represent the actual fighting mechanism. For this, new variables are created as the fight process should not alter the settings of the fighters (since the second stage of the tournament restarts with fresh health and strength). Accordingly, for each iteration, the value of a punch (`damage_taken` and `damage_given`) is different. The health of both fighters is systematically reduced by a punch of the opponent until either fighter’s health is below zero, as seen in the while loop condition. Once eithers health is negative, the code checks whether the other fighter’s health is positive in which case they are the winner while the loop restarts from the top (increasing the `discounter` hence altering the strength of each punch and restarting the fight process with initial health) if the health of both fighters is negative. This is since, as mentioned above, the fighter must survive the fight to be considered the winner. Accordingly, once this infinite loop ends, there is one clear winner for each fight in the stage and they each get awarded an increase of one to their `gamewon` argument, which becomes relevant later in determining the second stage of the tournament.\n",
        "\n",
        "Following this, as mentioned above, the predefined characters and attributes are imported into their respective class. We chose to limit the tournament participants to four fighters and limit the attributes to seven, yet this could be changed by adding more instances of either class."
      ],
      "metadata": {
        "id": "1-f2wRrW20O3"
      }
    },
    {
      "cell_type": "code",
      "source": [
        "'''\n",
        "characters and attributes list\n",
        "'''\n",
        "characters = [\n",
        "    Character(\"Harry Potter\", 100, 100),\n",
        "    Character(\"Ron Weasley\", 90, 110),\n",
        "    Character(\"Draco Malfoy\", 120, 80),\n",
        "    Character(\"Voldemort\", 140, 60)\n",
        "    ]\n",
        "\n",
        "attributes = [\n",
        "    Attribute(\"Coffee\", 50, -10),\n",
        "    Attribute(\"Sword\", 80, 10),\n",
        "    Attribute(\"Protein Shake\", 70, 20),\n",
        "    Attribute(\"Hat\", -20, 40),\n",
        "    Attribute(\"Pizza\", 40, -30),\n",
        "    Attribute(\"Skis\", 90, 0),\n",
        "    Attribute(\"Vision Goggles\", 60, -10)\n",
        "    ]"
      ],
      "metadata": {
        "id": "Vvq7sydQ27a4"
      },
      "execution_count": null,
      "outputs": []
    },
    {
      "cell_type": "markdown",
      "source": [
        "## Functions"
      ],
      "metadata": {
        "id": "WEX1ZMcErT97"
      }
    },
    {
      "cell_type": "markdown",
      "source": [
        "### `let_user_pick_C(characters)`"
      ],
      "metadata": {
        "id": "i7MKYDLgrXNa"
      }
    },
    {
      "cell_type": "markdown",
      "source": [
        "This function, later used within the `continue_with_character()` function, lays the groundwork for the user to be able to choose which character they would like from the `characters` list. To do so, an infinite loop is created which asks the user to input a number which represents one of the characters. This loop will run until the user has selected an integer which corresponds to the number of characters available, in our case four characters. "
      ],
      "metadata": {
        "id": "QqsX9u-IraoP"
      }
    },
    {
      "cell_type": "code",
      "source": [
        "#function to pick the desired fighter\n",
        "def let_user_pick_C(characters):\n",
        "    print(\"Please choose your fighter: \")\n",
        "\n",
        "    for idx, element in enumerate(characters):\n",
        "        print(\"{}) {}\".format(idx + 1, element))\n",
        "\n",
        "    while True:\n",
        "        try:\n",
        "            i = int(input(f\"\\nPlease insert only your fighter number (between 1 an {len(characters)}): \"))\n",
        "        except ValueError:\n",
        "            continue\n",
        "        if 0 < i <= len(characters):\n",
        "            return i - 1"
      ],
      "metadata": {
        "id": "qyaZiE1_rcwk"
      },
      "execution_count": null,
      "outputs": []
    },
    {
      "cell_type": "markdown",
      "source": [
        "### `let_user_pick_A(characters)`"
      ],
      "metadata": {
        "id": "Sq3J5D-drhvI"
      }
    },
    {
      "cell_type": "markdown",
      "source": [
        "Similarly to `let_user_pick_C(characters)`, this function, which is also used later within the `continue_with_character()` function, lays the groundwork for the user to be able to choose which attribute they would like to equip to their character. The user is again asked, with the input function, to insert an integer, within the range of the available options of attributes, which represents the chosen attribute. This loop again will run indefinitely until the code is either interrupted or an acceptable integer is inserted. "
      ],
      "metadata": {
        "id": "7OGB1LfBrkQn"
      }
    },
    {
      "cell_type": "code",
      "source": [
        "#function to pick attributes\n",
        "def let_user_pick_A(attributes):\n",
        "    print(\"\\nPlease choose your weapon: \")\n",
        "\n",
        "    for idx, element in enumerate(attributes):\n",
        "        print(\"{}) {}\".format(idx + 1, element))\n",
        "\n",
        "    while True:\n",
        "        try:\n",
        "            i = int(input(f\"\\nPlease insert only your weapon number (between 1 an {len(attributes)}): \"))\n",
        "        except ValueError:\n",
        "            continue\n",
        "        if 0 < i <= len(attributes):\n",
        "            return i - 1\n"
      ],
      "metadata": {
        "id": "o3cLaOJ7rxnL"
      },
      "execution_count": null,
      "outputs": []
    },
    {
      "cell_type": "markdown",
      "source": [
        "### `continue_with_character()`"
      ],
      "metadata": {
        "id": "e4Mg-gOsr21q"
      }
    },
    {
      "cell_type": "markdown",
      "source": [
        "This function serves as to ensure that the user is satisfied with their chosen character and attribute. Initially, this function creates three global variables since these will be required later in the code, outside of this function. Thereafter, this function calls both `let_user_pick_C()` and `let_user_pick_A()` function to receive the user’s choice, before asking the user whether they are satisfied with their choice. Here, it does not matter whether the user capitalizes their answer or does not, since the code transforms the string into uncapitalized when checking for identity. Only following the satisfaction of the user with their choice will the selection be saved as an instance of the `Fighter` class, aggregating the health (and strength) of the character with that of the attribute."
      ],
      "metadata": {
        "id": "S07CSbFHr7Jg"
      }
    },
    {
      "cell_type": "code",
      "source": [
        "# function implementing selection\n",
        "def continue_with_character():\n",
        "    global res1\n",
        "    global character_choice\n",
        "    global attribute_choice\n",
        "    while True:\n",
        "        try:\n",
        "            res1 = let_user_pick_C(characters)\n",
        "            character_choice = characters[res1]\n",
        "            print(character_choice)\n",
        "            res2 = let_user_pick_A(attributes)\n",
        "            attribute_choice = attributes[res2]\n",
        "            print(attribute_choice)\n",
        "            while True:              \n",
        "                try:\n",
        "                    x = input(f\"\\nDo you want to continue with {character_choice.name} and {attribute_choice.name}: yes or no? \")\n",
        "                    if x.lower() == \"no\":\n",
        "                        print(\"\\nPlease reselect a character and chose a new weapon/attribute\")\n",
        "                        break\n",
        "                    elif x.lower() == \"yes\":\n",
        "                        fighter_strength = character_choice.strength + attribute_choice.strength\n",
        "                        fighter_health = character_choice.health + attribute_choice.health\n",
        "                        print(\"Let's start the fight!!!\")\n",
        "                        print(f'Your character has strength {fighter_strength} and health {fighter_health}.')\n",
        "                        break\n",
        "                except ValueError:\n",
        "                    print(\"Please answer by yes or no.\")\n",
        "        except ValueError:\n",
        "            continue\n",
        "        if x.lower() == \"yes\":\n",
        "            fighters.append(Fighter(character_choice.name, attribute_choice.name, character_choice.strength + attribute_choice.strength, character_choice.health + attribute_choice.health))\n",
        "            break"
      ],
      "metadata": {
        "id": "hAxDGzeYr9k5"
      },
      "execution_count": null,
      "outputs": []
    },
    {
      "cell_type": "markdown",
      "source": [
        "### `create_fighters()`"
      ],
      "metadata": {
        "id": "Q97kI7BqsRxc"
      }
    },
    {
      "cell_type": "markdown",
      "source": [
        "This function serves as to assign a random attribute to the remaining characters, excluding the chosen character of the user. This is done by, for each character not chosen by the user, selecting a random integer which corresponds to the index of an attribute. Thereafter, the combination of character and attribute is converted into an instance of the `Fighter` class, aggregating the health (and strength) of the character with that of the attribute. As can be seen here, the selection of attributes is nonexclusive. "
      ],
      "metadata": {
        "id": "YOaCr8e3sV3a"
      }
    },
    {
      "cell_type": "code",
      "source": [
        "# random attributes\n",
        "def create_fighters():\n",
        "    for i in range(0,len(characters)):\n",
        "        if i == res1:\n",
        "            continue\n",
        "        else:\n",
        "            x = random.randint(0,len(attributes)-1)\n",
        "            z = Fighter(characters[i].name, attributes[x].name, characters[i].strength + attributes[x].strength, characters[i].health + attributes[x].health)\n",
        "            fighters.append(z)"
      ],
      "metadata": {
        "id": "ozrCxUNQsY6Z"
      },
      "execution_count": null,
      "outputs": []
    },
    {
      "cell_type": "markdown",
      "source": [
        "### `selection_to_fighter()`"
      ],
      "metadata": {
        "id": "M_7uDh0OsdB5"
      }
    },
    {
      "cell_type": "markdown",
      "source": [
        "This function initially creates an empty list, which is saved as a global variable due to the necessity of later codes not within this function. Thereafter, `continue_with_character()` and `create_fighters()` are called executed, while saving the respective `Fighter` class instances into this newly created list. At the end, the list `fighters` includes all the fighters, as instances of the `Fighter` class, that will participate in the tournament, including their aggregate levels from combing the character settings with those of the attribute."
      ],
      "metadata": {
        "id": "HxuQLQ6bshQ9"
      }
    },
    {
      "cell_type": "code",
      "source": [
        "def selection_to_fighter():\n",
        "    global fighters\n",
        "    fighters = []\n",
        "    continue_with_character()            \n",
        "    create_fighters()"
      ],
      "metadata": {
        "id": "BhfqlrwLsj_e"
      },
      "execution_count": null,
      "outputs": []
    },
    {
      "cell_type": "markdown",
      "source": [
        "### `winner()`"
      ],
      "metadata": {
        "id": "5WqqKj3lsm20"
      }
    },
    {
      "cell_type": "markdown",
      "source": [
        "This function serves to determine the overall winner of the tournament, based on the value of `gamewon`. It additionally creates four global variables, one for each ranking, as these will be used within the `standing()` function. In order to determine the winner, this code checks which fighter has a higher `gamewon`, in the respective lists (created in the `fighting()` function). Since the winners of the first stage of the tournament are saved in a different list from the losers, checking for the winners of the second stage is easy. The winner of the tournament will have a `gamewon` equal to two (since they won both games), while the second and third both won one game, and the last having won no game hence a `gamewon` equal to zero. Last, this function calls the function `standing()`. "
      ],
      "metadata": {
        "id": "P8YmZE0PstOf"
      }
    },
    {
      "cell_type": "code",
      "source": [
        "# determine the winner \n",
        "def winner():\n",
        "    global first_place\n",
        "    global second_place\n",
        "    global third_place\n",
        "    global last_place\n",
        "    if TMW[0].gamewon > TMW[1].gamewon:\n",
        "        first_place = TMW[0]\n",
        "        second_place = TMW[1]\n",
        "    elif TMW[1].gamewon > TMW[0].gamewon:\n",
        "        first_place = TMW[1]\n",
        "        second_place = TMW[0]\n",
        "    else:\n",
        "        raise \"Unexpected Error occured\"\n",
        "    if TML[0].gamewon > TML[1].gamewon:\n",
        "        third_place = TML[0]\n",
        "        last_place = TML[1]\n",
        "    elif TML[1].gamewon > TML[0].gamewon:\n",
        "        third_place = TML[1]\n",
        "        last_place = TML[0]\n",
        "    else:\n",
        "        raise \"Unexpected Error occured\"\n",
        "    standing()"
      ],
      "metadata": {
        "id": "7ss-oIYzsvVq"
      },
      "execution_count": null,
      "outputs": []
    },
    {
      "cell_type": "markdown",
      "source": [
        "### `standing()`"
      ],
      "metadata": {
        "id": "fHJHmB9wszg4"
      }
    },
    {
      "cell_type": "markdown",
      "source": [
        "The purpose of this function is to illustrate to the user the outcomes of the tournament. It will additionally display a personalized message depending on the outcome of the user’s chosen fighter. This function additionally also resets the `gamewon`’s of all fighters, as this will be required if the user desires to start a new tournament."
      ],
      "metadata": {
        "id": "Ov50Mwtes4hS"
      }
    },
    {
      "cell_type": "code",
      "source": [
        "# illustrate the ranking\n",
        "def standing():\n",
        "    print(\"-------------------------------------------------------------------------------------------------------------------------------------\")\n",
        "    print(\"-------------------------------------------------------------------------------------------------------------------------------------\")\n",
        "    if character_choice.name == first_place.name:\n",
        "        print(f\"Congratulation on first place! Your fighter won the tournament by winning both fights!\")\n",
        "    elif character_choice.name == second_place.name:\n",
        "        print(f\"Congratulation! Your fighter placed second. You lost the second fight against {first_place.name}\")\n",
        "    elif character_choice.name == third_place.name:\n",
        "        print(f\"Congrats on third place! Better luck next time. The winner of the tournament is {first_place.name}.\")\n",
        "    elif character_choice.name == last_place.name:\n",
        "        print(f\"Better luck next time, your fighter won none of the fights! The winner of the tournament is {first_place.name}\")\n",
        "    else:\n",
        "        print(\"An error has occurred\")\n",
        "    print(\n",
        "        f\"\"\"\n",
        "        The complete tournament ranking is:\\n\n",
        "        First Place goes to: {first_place}\n",
        "        Second Place goes to: {second_place}\n",
        "        Third Place goes to: {third_place}\n",
        "        Last Place goes to: {last_place}\n",
        "        \"\"\"\n",
        "        )\n",
        "    for i in fighters:\n",
        "        # reset gamewon to zero\n",
        "        i.gamewon = 0\n",
        "    print(\"-------------------------------------------------------------------------------------------------------------------------------------\")\n",
        "    print(\"-------------------------------------------------------------------------------------------------------------------------------------\")\n",
        "    print(\"-------------------------------------------------------------------------------------------------------------------------------------\")\n",
        "    print(\"-------------------------------------------------------------------------------------------------------------------------------------\")\n"
      ],
      "metadata": {
        "id": "4PBSCE7Us7PG"
      },
      "execution_count": null,
      "outputs": []
    },
    {
      "cell_type": "markdown",
      "source": [
        "### `fighting()`"
      ],
      "metadata": {
        "id": "zhQ5kns1tBxW"
      }
    },
    {
      "cell_type": "markdown",
      "source": [
        "This function is at the core of the entire code, due to its creation of the fighting process. It begins by creating global variables, an empty list and a copy of the `fighters` list (which includes all instances of the `Fighter` class). It then randomly selects two integers, in order to randomly distribute the fighters of the `fighters` list into couples, which are saved as tuples in a list tournament. Since our code only created four characters, there are only two tuples. Next, the first stage of the fight is executed, using the fight function of the `Fighter` class between the fighters in the tuple. The winners, those with a gamewon equal to one, are added into an empty list (`TMW`) while the losers are added in another list (`TML`). The second stage of the fight, identical to the first, then fights the winners against each other and losers against each other. Last, this function calls on the function `winner()` to illustrate and determine the winner proceeded by executing the `restart_fight()` function. "
      ],
      "metadata": {
        "id": "CzCqd4JLtFXd"
      }
    },
    {
      "cell_type": "code",
      "source": [
        "# actual fighting\n",
        "def fighting():\n",
        "    global group1\n",
        "    global group2\n",
        "    global tournament\n",
        "    global TMW\n",
        "    global TML\n",
        "    global secondleg\n",
        "    group1 = fighters.copy()\n",
        "    group2 = []\n",
        "    x = random.randint(0,3)\n",
        "    y = random.randint(0,2)\n",
        "    group2.append(group1[x])\n",
        "    del group1[x]\n",
        "    group2.append(group1[y])\n",
        "    del group1[y]\n",
        "    tournament = [tuple(group1), tuple(group2)]\n",
        "    print(\"-------------------------------------------------------------------------------------------------------------------------------------\")\n",
        "    print(\"\\nTournament fights stage 1:\")\n",
        "    for x, y in tournament:\n",
        "        print(x.name, \"vs\", y.name)\n",
        "    print(\"\\n\")\n",
        "    for x, y in tournament:\n",
        "        print(f\"Fight between {x.name} and {y.name}:\")\n",
        "        x.fight(y)\n",
        "        print(f\"\\t {x} \\n\\t {y} \\n\")\n",
        "    TMW, TML = [], []\n",
        "    for i in fighters:\n",
        "        if i.gamewon > 0:\n",
        "            TMW.append(i)\n",
        "        elif i.gamewon == 0:\n",
        "            TML.append(i)\n",
        "    secondleg = ((TMW[0], TMW[1]), (TML[0], TML[1]))\n",
        "    print(\"-------------------------------------------------------------------------------------------------------------------------------------\")\n",
        "    print(\"\\nTournament fights stage 2:\")\n",
        "    for x, y in secondleg:\n",
        "        print(x.name, \"vs\", y.name)\n",
        "    print(\"\\n\")\n",
        "    for x, y in secondleg:\n",
        "        print(f\"Fight between {x.name} and {y.name}:\")\n",
        "        x.fight(y)\n",
        "        print(f\"\\t {x} \\n\\t {y} \\n\")\n",
        "    winner()\n",
        "    restart_fight()"
      ],
      "metadata": {
        "id": "z9p2KhWTtIpk"
      },
      "execution_count": null,
      "outputs": []
    },
    {
      "cell_type": "markdown",
      "source": [
        "### `restart_fight()`"
      ],
      "metadata": {
        "id": "lNtlLvAQtRf2"
      }
    },
    {
      "cell_type": "markdown",
      "source": [
        "As the name already gives away, this function serves to give the user the option to restart the fight. The user is asked and, depending on their answer, the whole tournament selection is restarted or ended. In case the user desires to restart the tournament, the function `tournament_duel()` is executed. "
      ],
      "metadata": {
        "id": "Si6m6o3TtVcJ"
      }
    },
    {
      "cell_type": "code",
      "source": [
        "# possibility to restart\n",
        "def restart_fight():\n",
        "    while True:\n",
        "        try:\n",
        "            x = input(\"\\n\\nWould you like to start a new tournament? \")\n",
        "            if x.lower() in [\"yes\", \"no\"]:\n",
        "              break\n",
        "        except ValueError:\n",
        "            print(\"Please answer yes or no\")\n",
        "    if x.lower() == \"yes\":\n",
        "        tournament_duel()\n",
        "    elif x.lower() == \"no\":\n",
        "        print(\"Thank you! Have a nice day!\")\n",
        "    else:\n",
        "      restart_fight()\n",
        "  "
      ],
      "metadata": {
        "id": "qEpWSLhttXuU"
      },
      "execution_count": null,
      "outputs": []
    },
    {
      "cell_type": "markdown",
      "source": [
        "### `tournament_duel()`"
      ],
      "metadata": {
        "id": "4ADbYkLZtbZX"
      }
    },
    {
      "cell_type": "markdown",
      "source": [
        "This function only serves to facilitate the initiation of the tournament. It executes initially the `selection_to_fighter()` function followed by the `fighting()` function. Therewith, all functions listed above are called without requiring excessive lines of codes calling each separately. On the condition that all prerequisites are loaded, it is sufficient to run `tournament_duel()` to initiate the fighting procedure of the tournament. "
      ],
      "metadata": {
        "id": "NLRaa2u0tjKL"
      }
    },
    {
      "cell_type": "code",
      "source": [
        "# full fighting code in one function\n",
        "def tournament_duel():\n",
        "    #run this function to start the selection process\n",
        "    selection_to_fighter()\n",
        "    # actual fighting\n",
        "    fighting()"
      ],
      "metadata": {
        "id": "RccGsRMRtlib"
      },
      "execution_count": null,
      "outputs": []
    },
    {
      "cell_type": "markdown",
      "source": [
        "# Remarks "
      ],
      "metadata": {
        "id": "eycLgVgBtpAF"
      }
    },
    {
      "cell_type": "markdown",
      "source": [
        "This program enables the user to play an interactive game, whereby their decisions and a bit of luck directly influence the outcome of the tournament. While different combinations of characters and attributes may result in higher probabilities of winning the tournament, this is not guaranteed. If the user would like to find out whether there is a definitive winning combination, all possible combinations of their opponents must be considered. A certain combination (e.g. Harry Potter with Coffee) may in some instances win first place yet may just as well place last depending on the combinations of the opponents. Accordingly, a further project could attempt to find a pattern of which attributes/characters give the highest probability (or certainty) of victory. In addition, this program gives the user the ability to personalize it, they could alter the levels of attributes/characters, change the naming of attributes/characters or even add new instances of characters or fighters. The latter would require minor tweaks in the code to accommodate the increased number of participants. "
      ],
      "metadata": {
        "id": "VAVlUCQrtrM8"
      }
    }
  ]
}